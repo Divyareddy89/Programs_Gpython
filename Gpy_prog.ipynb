{
 "cells": [
  {
   "cell_type": "code",
   "execution_count": 32,
   "id": "28f5112d-e8b8-4db2-9c15-ec1f431d2999",
   "metadata": {},
   "outputs": [],
   "source": [
    "#Number guessing game in Python 3 and C\n"
   ]
  },
  {
   "cell_type": "code",
   "execution_count": 31,
   "id": "a724d003-f344-4131-9c1f-c709fa695071",
   "metadata": {},
   "outputs": [
    {
     "name": "stdin",
     "output_type": "stream",
     "text": [
      "enter a number you guessed 2\n"
     ]
    },
    {
     "name": "stdout",
     "output_type": "stream",
     "text": [
      "You guessed it right\n",
      "2\n"
     ]
    }
   ],
   "source": [
    "import numpy as np\n",
    "import random\n",
    "\n",
    "n=np.random.randint(0,5)\n",
    "n1=int(input(\"enter a number you guessed\"))\n",
    "for i in range(0,5):\n",
    "    \n",
    "    if n==n1:\n",
    "        print(\"You guessed it right\")\n",
    "        break\n",
    "    else:\n",
    "        print(\"Number is not correct\")\n",
    "        print(\"Try again\")\n",
    "        break\n",
    "print(n)\n"
   ]
  },
  {
   "cell_type": "code",
   "execution_count": null,
   "id": "39a298c4-9d4a-4f21-84ac-0b94d8dab4d5",
   "metadata": {},
   "outputs": [],
   "source": []
  }
 ],
 "metadata": {
  "kernelspec": {
   "display_name": "Python 3 (ipykernel)",
   "language": "python",
   "name": "python3"
  },
  "language_info": {
   "codemirror_mode": {
    "name": "ipython",
    "version": 3
   },
   "file_extension": ".py",
   "mimetype": "text/x-python",
   "name": "python",
   "nbconvert_exporter": "python",
   "pygments_lexer": "ipython3",
   "version": "3.11.7"
  }
 },
 "nbformat": 4,
 "nbformat_minor": 5
}
